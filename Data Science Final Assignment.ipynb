{
 "cells": [
  {
   "cell_type": "markdown",
   "id": "aaff57f7",
   "metadata": {},
   "source": [
    "# Data Science Final Assignment"
   ]
  },
  {
   "cell_type": "markdown",
   "id": "7d216769",
   "metadata": {},
   "source": [
    "This notebook includes Data Science characteristics and some numerical commands"
   ]
  },
  {
   "cell_type": "markdown",
   "id": "baf63121",
   "metadata": {},
   "source": [
    "Main data science languages: \n",
    "    1. Python\n",
    "    2. SQL\n",
    "    3. Java\n",
    "    4. Julia\n",
    "    5. R"
   ]
  },
  {
   "cell_type": "markdown",
   "id": "bd94869f",
   "metadata": {},
   "source": [
    "Main data science libraries:\n",
    "    1. Numpy\n",
    "    2. Tensorflow\n",
    "    3. Pandas\n",
    "    4. Keras\n",
    "    5. Scikit-Learn"
   ]
  },
  {
   "cell_type": "markdown",
   "id": "669cca84",
   "metadata": {},
   "source": [
    "Main data science tools:\n",
    "    1. Apache Spark\n",
    "    2. Apache Hadoop\n",
    "    3. MatLab\n",
    "    4. DuckDB "
   ]
  },
  {
   "cell_type": "markdown",
   "id": "f5bbfa66",
   "metadata": {},
   "source": [
    "Example numeric expressions"
   ]
  },
  {
   "cell_type": "code",
   "execution_count": 1,
   "id": "9638aa04",
   "metadata": {},
   "outputs": [
    {
     "data": {
      "text/plain": [
       "17.5"
      ]
     },
     "execution_count": 1,
     "metadata": {},
     "output_type": "execute_result"
    }
   ],
   "source": [
    "(3+4)*5/2"
   ]
  },
  {
   "cell_type": "code",
   "execution_count": 2,
   "id": "2ec452e5",
   "metadata": {},
   "outputs": [
    {
     "data": {
      "text/plain": [
       "3.3333333333333335"
      ]
     },
     "execution_count": 2,
     "metadata": {},
     "output_type": "execute_result"
    }
   ],
   "source": [
    "# Converting 200 minutes into hour\n",
    "200/60"
   ]
  },
  {
   "cell_type": "markdown",
   "id": "60b253de",
   "metadata": {},
   "source": [
    "Main objectives final assignment:\n",
    "    1. Creating jupyter notebooks\n",
    "    2. Saving jupyter notebooks\n",
    "    3. Listing main characteristics of data science languages, libraries and tools\n",
    "    4. Arithmetic expressions\n",
    "    5. Uploading jupyter notebooks to GitHub"
   ]
  },
  {
   "cell_type": "markdown",
   "id": "c41853d3",
   "metadata": {},
   "source": [
    "Author: César Martín Machuca"
   ]
  },
  {
   "cell_type": "code",
   "execution_count": null,
   "id": "a93649dc",
   "metadata": {},
   "outputs": [],
   "source": []
  }
 ],
 "metadata": {
  "kernelspec": {
   "display_name": "Python 3",
   "language": "python",
   "name": "python3"
  },
  "language_info": {
   "codemirror_mode": {
    "name": "ipython",
    "version": 3
   },
   "file_extension": ".py",
   "mimetype": "text/x-python",
   "name": "python",
   "nbconvert_exporter": "python",
   "pygments_lexer": "ipython3",
   "version": "3.8.8"
  }
 },
 "nbformat": 4,
 "nbformat_minor": 5
}
